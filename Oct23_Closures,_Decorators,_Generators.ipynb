{
  "cells": [
    {
      "cell_type": "markdown",
      "metadata": {
        "id": "view-in-github",
        "colab_type": "text"
      },
      "source": [
        "<a href=\"https://colab.research.google.com/github/Ernestug/30Days-of-Learning-Data-Analysis-Using-Power-BI-for-Students/blob/main/Oct23_Closures%2C_Decorators%2C_Generators.ipynb\" target=\"_parent\"><img src=\"https://colab.research.google.com/assets/colab-badge.svg\" alt=\"Open In Colab\"/></a>"
      ]
    },
    {
      "cell_type": "code",
      "execution_count": null,
      "metadata": {
        "id": "9bEGKJywYlb5",
        "outputId": "ac7fd4cc-0b75-4dc9-a76b-9083ecfe93b4"
      },
      "outputs": [
        {
          "name": "stdout",
          "output_type": "stream",
          "text": [
            "C\n",
            "abcdefg\n",
            "ABCDEFGhi\n",
            "['a', 'b', 'c', 'd']\n"
          ]
        },
        {
          "data": {
            "text/plain": [
              "'a-_-b-_-c-_-d-_-e'"
            ]
          },
          "execution_count": 37,
          "metadata": {},
          "output_type": "execute_result"
        }
      ],
      "source": [
        "somestring = \"ABCDEFG\"\n",
        "\n",
        "print(somestring[2])\n",
        "\n",
        "print(somestring.lower())\n",
        "\n",
        "anotherstring = \"hi\"\n",
        "\n",
        "print(somestring+anotherstring)\n",
        "\n",
        "stringlist = \"a,b,c,d\"\n",
        "print(stringlist.split(\",\"))\n",
        "\n",
        "listofstrings = ['a', 'b', 'c']\n",
        "\n",
        "# print('-_-'.join(listofstrings))\n",
        "\n",
        "anotherlist = ['d', 'e']\n",
        "\n",
        "# totallist = listofstrings+anotherlist\n",
        "# print(totallist)\n",
        "\n",
        "'-_-'.join(listofstrings+anotherlist)\n"
      ]
    },
    {
      "cell_type": "code",
      "execution_count": null,
      "metadata": {
        "id": "WcPiQS0vYlb8",
        "outputId": "3a710f79-415e-4c1b-f78d-c0139b4333cb"
      },
      "outputs": [
        {
          "name": "stdout",
          "output_type": "stream",
          "text": [
            "even\n",
            "odd\n",
            "even\n",
            "odd\n",
            "even\n",
            "odd\n",
            "even\n",
            "odd\n",
            "even\n",
            "odd\n"
          ]
        }
      ],
      "source": [
        "# check if num is even or odd\n",
        "\n",
        "def even_checker(num):\n",
        "    if num % 2 == 0:\n",
        "        print(\"even\")\n",
        "    else:\n",
        "        print(\"odd\")\n",
        "\n",
        "for i in range(10):\n",
        "    even_checker(i)"
      ]
    },
    {
      "cell_type": "code",
      "execution_count": null,
      "metadata": {
        "id": "nI-RSXfUYlb8",
        "outputId": "ee520947-15a8-4c8c-c457-ef84a672047f"
      },
      "outputs": [
        {
          "name": "stdout",
          "output_type": "stream",
          "text": [
            "1\n",
            "5\n",
            "100\n",
            "[2, 10, 200]\n"
          ]
        }
      ],
      "source": [
        "somelist = [1,5,100]\n",
        "\n",
        "for index, element in enumerate(somelist):\n",
        "    print(element)\n",
        "    somelist[index] *= 2\n",
        "\n",
        "print(somelist)"
      ]
    },
    {
      "cell_type": "code",
      "execution_count": null,
      "metadata": {
        "id": "XqGgIa79Ylb8"
      },
      "outputs": [],
      "source": [
        "class Person:\n",
        "    worldPopulation = 0\n",
        "\n",
        "    def __init__(self, n, a):\n",
        "        self.name = n\n",
        "        self.age = a\n",
        "        self.species = \"human\"\n",
        "        Person.worldPopulation += 1\n",
        "\n",
        "\n",
        "    def introduction(self, myName):\n",
        "        print(f\"Hi {myName}, I am {self.name}\")\n",
        "\n",
        "class Student(Person):\n",
        "    def __init__(self, name, age, loan):\n",
        "        self.name = name\n",
        "        self.age = age\n",
        "        self.loan = loan\n",
        "        Person.worldPopulation += 1\n",
        "\n",
        "    def whatsMyAgeIn5Years(self):\n",
        "        return self.age + 5\n",
        "\n",
        "    def introduction(self, myName):\n",
        "        super().introduction(myName)\n",
        "        print(f\"My debt is {self.loan}\")\n",
        "        print(f\"My age in 5 years is going to be {self.whatsMyAgeIn5Years()}\")\n",
        "\n"
      ]
    },
    {
      "cell_type": "code",
      "execution_count": null,
      "metadata": {
        "id": "sA_HVyZdYlb-",
        "outputId": "d44bf541-6a41-4da0-966d-7f0281408226"
      },
      "outputs": [
        {
          "ename": "",
          "evalue": "",
          "output_type": "error",
          "traceback": [
            "\u001b[1;31mThe Kernel crashed while executing code in the the current cell or a previous cell. Please review the code in the cell(s) to identify a possible cause of the failure. Click <a href='https://aka.ms/vscodeJupyterKernelCrash'>here</a> for more info. View Jupyter <a href='command:jupyter.viewOutput'>log</a> for further details."
          ]
        }
      ],
      "source": [
        "print(Person.worldPopulation)\n",
        "\n",
        "John = Person(\"John\", 38)\n",
        "\n",
        "print(Person.worldPopulation)\n",
        "\n",
        "print(John.age)\n",
        "print(John.species)\n",
        "\n",
        "John.species = 'dog'\n",
        "print(John.species)\n",
        "\n",
        "John.introduction(\"Jack\")\n",
        "\n",
        "JohnsKid = Person(\"Maria\", 3)\n",
        "\n",
        "print(Person.worldPopulation)\n",
        "\n",
        "Jonathan = Student(\"Jonathan\", 19, 500000)\n",
        "\n",
        "print(Person.worldPopulation)\n",
        "\n",
        "Jonathan.introduction(\"Vojta\")\n",
        "\n"
      ]
    },
    {
      "cell_type": "code",
      "execution_count": null,
      "metadata": {
        "id": "4X_IGofWYlb_",
        "outputId": "1749cc51-d99a-4dff-f988-0ce7c7c2553b"
      },
      "outputs": [
        {
          "name": "stdout",
          "output_type": "stream",
          "text": [
            "4\n"
          ]
        }
      ],
      "source": [
        "squarefunc = lambda x: x**2\n",
        "\n",
        "print(squarefunc(2))"
      ]
    },
    {
      "cell_type": "code",
      "execution_count": null,
      "metadata": {
        "id": "eMMhGCYeYlcA",
        "outputId": "8399e010-ccc5-4754-8162-fc74178680eb"
      },
      "outputs": [
        {
          "name": "stdout",
          "output_type": "stream",
          "text": [
            "[1, 4, 9, 16, 25]\n",
            "[2, 4]\n"
          ]
        }
      ],
      "source": [
        "numbers = [1, 2, 3, 4, 5]\n",
        "squared = list(map(lambda x: x**2, numbers))\n",
        "even_numbers = list(filter(lambda x: x % 2 == 0, numbers))\n",
        "print(squared)\n",
        "print(even_numbers)"
      ]
    },
    {
      "cell_type": "code",
      "execution_count": null,
      "metadata": {
        "id": "fUF3CIk8YlcA"
      },
      "outputs": [],
      "source": []
    },
    {
      "cell_type": "code",
      "execution_count": null,
      "metadata": {
        "id": "k0UmPGEwYlcB",
        "outputId": "de3797fe-f174-42ec-c777-c5539104efd6"
      },
      "outputs": [
        {
          "name": "stdout",
          "output_type": "stream",
          "text": [
            "HELLO\n",
            "HELLO\n"
          ]
        }
      ],
      "source": [
        "def shout(text):\n",
        "    return text.upper()\n",
        "\n",
        "print(shout('Hello'))\n",
        "\n",
        "yell = shout\n",
        "\n",
        "print(yell('Hello'))"
      ]
    },
    {
      "cell_type": "code",
      "execution_count": null,
      "metadata": {
        "id": "wIIlvsFQYlcC",
        "outputId": "318900f1-aa3d-4f3b-9acc-4338c7049dcb"
      },
      "outputs": [
        {
          "name": "stdout",
          "output_type": "stream",
          "text": [
            "HI, I AM CREATED BY A FUNCTION PASSED AS AN ARGUMENT.\n",
            "hi, i am created by a function passed as an argument.\n"
          ]
        }
      ],
      "source": [
        "# can be passed as arguments to other functions\n",
        "def shout(text):\n",
        "    return text.upper()\n",
        "\n",
        "def whisper(text):\n",
        "    return text.lower()\n",
        "\n",
        "def greet(func):\n",
        "    # storing the function in a variable\n",
        "    greeting = func(\"\"\"Hi, I am created by a function passed as an argument.\"\"\")\n",
        "    print (greeting)\n",
        "\n",
        "greet(shout)\n",
        "greet(whisper)"
      ]
    },
    {
      "cell_type": "code",
      "execution_count": null,
      "metadata": {
        "id": "7bOS7ApUYlcC",
        "outputId": "4c264e82-20c3-4816-d316-a803378baff4"
      },
      "outputs": [
        {
          "name": "stdout",
          "output_type": "stream",
          "text": [
            "25\n",
            "16\n",
            "10\n"
          ]
        }
      ],
      "source": [
        "# Functions can return another function\n",
        "\n",
        "def create_adder(x):\n",
        "    def adder(y):\n",
        "        return x+y\n",
        "\n",
        "    return adder\n",
        "\n",
        "add_15 = create_adder(15)\n",
        "\n",
        "print(add_15(10))\n",
        "print(add_15(1))\n",
        "\n",
        "add_20 = create_adder(20)\n",
        "\n",
        "print(add_20(-10))"
      ]
    },
    {
      "cell_type": "code",
      "execution_count": null,
      "metadata": {
        "id": "CWjTrbs0YlcE",
        "outputId": "cdbcf1b2-799a-4bb2-9bd0-31c397810a03"
      },
      "outputs": [
        {
          "name": "stdout",
          "output_type": "stream",
          "text": [
            "Hi John\n",
            "<function greet.<locals>.<lambda> at 0x000002068F685480>\n"
          ]
        }
      ],
      "source": [
        "def greet():\n",
        "    # variable defined outside the inner function\n",
        "    name = \"John\"\n",
        "\n",
        "    # return a nested anonymous function\n",
        "    return lambda: \"Hi \" + name\n",
        "\n",
        "# call the outer function\n",
        "message = greet()\n",
        "\n",
        "# call the inner function\n",
        "print(message())\n",
        "print(greet())"
      ]
    },
    {
      "cell_type": "code",
      "execution_count": null,
      "metadata": {
        "id": "CL848vT6YlcE",
        "outputId": "419c2fa8-226e-46a9-ff05-9b6f4c4a441f"
      },
      "outputs": [
        {
          "name": "stdout",
          "output_type": "stream",
          "text": [
            "3\n",
            "5\n",
            "7\n",
            "3\n"
          ]
        }
      ],
      "source": [
        "def calculate():\n",
        "    num = 1\n",
        "    def inner_func():\n",
        "        nonlocal num\n",
        "        num += 2\n",
        "        return num\n",
        "    return inner_func\n",
        "\n",
        "# call the outer function\n",
        "odd = calculate()\n",
        "\n",
        "# call the inner function\n",
        "print(odd())\n",
        "print(odd())\n",
        "print(odd())\n",
        "\n",
        "# call the outer function again\n",
        "odd2 = calculate()\n",
        "print(odd2())"
      ]
    },
    {
      "cell_type": "code",
      "execution_count": null,
      "metadata": {
        "id": "-0_GzpF6YlcF",
        "outputId": "342c0cc2-dda9-4242-d8a3-b8c8ff510c3e"
      },
      "outputs": [
        {
          "name": "stdout",
          "output_type": "stream",
          "text": [
            "6\n",
            "4\n"
          ]
        }
      ],
      "source": [
        "def closure_function(x):\n",
        "    def multiply(y):\n",
        "        return x * y\n",
        "    return multiply\n",
        "\n",
        "double = closure_function(2)  # 'double' is now a closure\n",
        "\n",
        "print(double(3))  # Output: 6\n",
        "print(double(2))"
      ]
    },
    {
      "cell_type": "code",
      "execution_count": null,
      "metadata": {
        "id": "jOVftKPDYlcF",
        "outputId": "7e4f0fe3-111b-4a06-d937-83efa0103622"
      },
      "outputs": [
        {
          "name": "stdout",
          "output_type": "stream",
          "text": [
            "Hello, this is before function execution\n",
            "This is inside the function !!\n",
            "This is after function execution\n"
          ]
        }
      ],
      "source": [
        "# defining a decorator\n",
        "def hello_decorator(func):\n",
        "    def wrapper():\n",
        "        print(\"Hello, this is before function execution\")\n",
        "\n",
        "        func()\n",
        "\n",
        "        print(\"This is after function execution\")\n",
        "\n",
        "    return wrapper\n",
        "\n",
        "\n",
        "# defining a function, to be called inside wrapper\n",
        "def function_to_be_used():\n",
        "    print(\"This is inside the function !!\")\n",
        "\n",
        "\n",
        "function_to_be_used = hello_decorator(function_to_be_used)\n",
        "\n",
        "\n",
        "function_to_be_used()"
      ]
    },
    {
      "cell_type": "code",
      "execution_count": null,
      "metadata": {
        "id": "gGaocSeWYlcG",
        "outputId": "2587ceec-1575-4ece-867a-138c97a3ba6c"
      },
      "outputs": [
        {
          "name": "stdout",
          "output_type": "stream",
          "text": [
            "some_function took 2.0122594833374023 seconds to execute.\n",
            "another_func took 0.0016176700592041016 seconds to execute.\n"
          ]
        }
      ],
      "source": [
        "import time\n",
        "\n",
        "# Decorator function\n",
        "def timing_decorator(func):\n",
        "    def wrapper(*args, **kwargs):\n",
        "        start_time = time.time()\n",
        "\n",
        "        result = func(*args, **kwargs)\n",
        "\n",
        "        end_time = time.time()\n",
        "        execution_time = end_time - start_time\n",
        "        print(f\"{func.__name__} took {execution_time} seconds to execute.\")\n",
        "        return result\n",
        "    return wrapper\n",
        "\n",
        "# Apply the decorator to a function\n",
        "@timing_decorator\n",
        "def some_function():\n",
        "    # Simulate some time-consuming operation\n",
        "    time.sleep(2)\n",
        "\n",
        "@timing_decorator\n",
        "def another_func():\n",
        "    sum = 0\n",
        "    for i in range(10000):\n",
        "        sum+=i\n",
        "\n",
        "# Call the decorated function\n",
        "some_function()\n",
        "another_func()"
      ]
    },
    {
      "cell_type": "code",
      "execution_count": null,
      "metadata": {
        "id": "94lSpm0zYlcG",
        "outputId": "cc8ff624-b695-47cb-ae81-1d4a5d6a4ad9"
      },
      "outputs": [
        {
          "name": "stdout",
          "output_type": "stream",
          "text": [
            "Hello, this is before function execution\n",
            "Hi\n",
            "This is after function execution\n",
            "Hello, this is before function execution\n",
            "15\n",
            "This is after function execution\n"
          ]
        }
      ],
      "source": [
        "def hello_decorator(func):\n",
        "    def wrapper(*args):\n",
        "        print(\"Hello, this is before function execution\")\n",
        "        print(func(*args))\n",
        "        print(\"This is after function execution\")\n",
        "\n",
        "    return wrapper\n",
        "\n",
        "@hello_decorator\n",
        "def greet():\n",
        "    return \"Hi\"\n",
        "\n",
        "@hello_decorator\n",
        "def add(x,y):\n",
        "    return x + y\n",
        "\n",
        "\n",
        "greet()\n",
        "add(10, 5)"
      ]
    },
    {
      "cell_type": "code",
      "execution_count": null,
      "metadata": {
        "id": "kZBsGw7HYlcH"
      },
      "outputs": [],
      "source": [
        "def hello_decorator(func):\n",
        "    def wrapper(*args, **kwargs):\n",
        "\n",
        "        print(\"before Execution\")\n",
        "\n",
        "        # getting the returned value\n",
        "        returned_value = func(*args, **kwargs)\n",
        "        print(\"after Execution\")\n",
        "\n",
        "        # returning the value to the original frame\n",
        "        return returned_value\n",
        "\n",
        "    return wrapper\n",
        "\n",
        "\n",
        "# adding decorator to the function\n",
        "@hello_decorator\n",
        "def sum_two_numbers(a, b):\n",
        "    print(\"Inside the function\")\n",
        "    return a + b\n",
        "\n",
        "a, b = 1, 2\n",
        "\n",
        "# getting the value through return of the function\n",
        "print(\"Sum =\", sum_two_numbers(a, b))"
      ]
    },
    {
      "cell_type": "code",
      "execution_count": null,
      "metadata": {
        "id": "CsltidjjYlcH",
        "outputId": "2aeedeaa-3a47-4d55-d8aa-b10593b33a84"
      },
      "outputs": [
        {
          "name": "stdout",
          "output_type": "stream",
          "text": [
            "1\n",
            "2\n",
            "3\n"
          ]
        }
      ],
      "source": [
        "\n",
        "# A generator function that yields 1 for first time,\n",
        "# 2 second time and 3 third time\n",
        "def simpleGeneratorFun():\n",
        "    yield 1\n",
        "    yield 2\n",
        "    yield 3\n",
        "\n",
        "# Driver code to check above generator function\n",
        "for value in simpleGeneratorFun():\n",
        "    print(value)"
      ]
    },
    {
      "cell_type": "code",
      "execution_count": null,
      "metadata": {
        "id": "HwHVhf2qYlcI",
        "outputId": "ad36d362-b44e-4757-c108-c7406b3f2005"
      },
      "outputs": [
        {
          "name": "stdout",
          "output_type": "stream",
          "text": [
            "1\n",
            "2\n",
            "3\n"
          ]
        }
      ],
      "source": [
        "\n",
        "# A Python program to demonstrate use of\n",
        "# generator object with next()\n",
        "\n",
        "# A generator function\n",
        "def simpleGeneratorFun():\n",
        "    yield 1\n",
        "    yield 2\n",
        "    yield 3\n",
        "\n",
        "# x is a generator object\n",
        "x = simpleGeneratorFun()\n",
        "\n",
        "# Iterating over the generator object using next\n",
        "\n",
        "# In Python 3, __next__()\n",
        "print(next(x))\n",
        "print(next(x))\n",
        "print(next(x))"
      ]
    },
    {
      "cell_type": "code",
      "execution_count": null,
      "metadata": {
        "id": "Rbx554fLYlcI",
        "outputId": "1f07991d-48df-4854-f55b-db96b1802a14"
      },
      "outputs": [
        {
          "name": "stdout",
          "output_type": "stream",
          "text": [
            "0\n",
            "10\n",
            "20\n"
          ]
        }
      ],
      "source": [
        "\n",
        "# generator expression\n",
        "generator_exp = (i * 5 for i in range(5) if i%2==0)\n",
        "\n",
        "for i in generator_exp:\n",
        "    print(i)"
      ]
    },
    {
      "cell_type": "code",
      "execution_count": null,
      "metadata": {
        "id": "waQlnVaGYlcJ"
      },
      "outputs": [],
      "source": []
    }
  ],
  "metadata": {
    "kernelspec": {
      "display_name": "Python 3",
      "language": "python",
      "name": "python3"
    },
    "language_info": {
      "codemirror_mode": {
        "name": "ipython",
        "version": 3
      },
      "file_extension": ".py",
      "mimetype": "text/x-python",
      "name": "python",
      "nbconvert_exporter": "python",
      "pygments_lexer": "ipython3",
      "version": "3.10.11"
    },
    "colab": {
      "provenance": [],
      "include_colab_link": true
    }
  },
  "nbformat": 4,
  "nbformat_minor": 0
}