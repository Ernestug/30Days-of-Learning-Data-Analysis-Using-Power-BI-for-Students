{
  "cells": [
    {
      "cell_type": "markdown",
      "metadata": {
        "id": "view-in-github",
        "colab_type": "text"
      },
      "source": [
        "<a href=\"https://colab.research.google.com/github/Ernestug/30Days-of-Learning-Data-Analysis-Using-Power-BI-for-Students/blob/main/Oct23_Closures%2C_Decorators%2C_Generators.ipynb\" target=\"_parent\"><img src=\"https://colab.research.google.com/assets/colab-badge.svg\" alt=\"Open In Colab\"/></a>"
      ]
    },
    {
      "cell_type": "code",
      "execution_count": null,
      "metadata": {
        "id": "KARjFmX4UXai",
        "outputId": "7fa056b9-75ef-4551-b5d7-b4f62e414f73"
      },
      "outputs": [
        {
          "name": "stdout",
          "output_type": "stream",
          "text": [
            "C\n",
            "abcdefg\n",
            "ABCDEFGhi\n",
            "['a', 'b', 'c', 'd']\n"
          ]
        },
        {
          "data": {
            "text/plain": [
              "'a-_-b-_-c-_-d-_-e'"
            ]
          },
          "execution_count": 37,
          "metadata": {},
          "output_type": "execute_result"
        }
      ],
      "source": [
        "somestring = \"ABCDEFG\"\n",
        "\n",
        "print(somestring[2])\n",
        "\n",
        "print(somestring.lower())\n",
        "\n",
        "anotherstring = \"hi\"\n",
        "\n",
        "print(somestring+anotherstring)\n",
        "\n",
        "stringlist = \"a,b,c,d\"\n",
        "print(stringlist.split(\",\"))\n",
        "\n",
        "listofstrings = ['a', 'b', 'c']\n",
        "\n",
        "# print('-_-'.join(listofstrings))\n",
        "\n",
        "anotherlist = ['d', 'e']\n",
        "\n",
        "# totallist = listofstrings+anotherlist\n",
        "# print(totallist)\n",
        "\n",
        "'-_-'.join(listofstrings+anotherlist)\n"
      ]
    },
    {
      "cell_type": "code",
      "execution_count": null,
      "metadata": {
        "id": "eYFs_0S3UXak",
        "outputId": "e925744d-544e-46ff-c07e-4259d282a58c"
      },
      "outputs": [
        {
          "name": "stdout",
          "output_type": "stream",
          "text": [
            "even\n",
            "odd\n",
            "even\n",
            "odd\n",
            "even\n",
            "odd\n",
            "even\n",
            "odd\n",
            "even\n",
            "odd\n"
          ]
        }
      ],
      "source": [
        "# check if num is even or odd\n",
        "\n",
        "def even_checker(num):\n",
        "    if num % 2 == 0:\n",
        "        print(\"even\")\n",
        "    else:\n",
        "        print(\"odd\")\n",
        "\n",
        "for i in range(10):\n",
        "    even_checker(i)"
      ]
    },
    {
      "cell_type": "code",
      "execution_count": null,
      "metadata": {
        "id": "f2APcJIeUXak",
        "outputId": "89e80955-6970-43f0-d080-0f9d91826302"
      },
      "outputs": [
        {
          "name": "stdout",
          "output_type": "stream",
          "text": [
            "1\n",
            "5\n",
            "100\n",
            "[2, 10, 200]\n"
          ]
        }
      ],
      "source": [
        "somelist = [1,5,100]\n",
        "\n",
        "for index, element in enumerate(somelist):\n",
        "    print(element)\n",
        "    somelist[index] *= 2\n",
        "\n",
        "print(somelist)"
      ]
    },
    {
      "cell_type": "code",
      "execution_count": null,
      "metadata": {
        "id": "PyznZBn4UXal"
      },
      "outputs": [],
      "source": [
        "class Person:\n",
        "    worldPopulation = 0\n",
        "\n",
        "    def __init__(self, n, a):\n",
        "        self.name = n\n",
        "        self.age = a\n",
        "        self.species = \"human\"\n",
        "        Person.worldPopulation += 1\n",
        "\n",
        "\n",
        "    def introduction(self, myName):\n",
        "        print(f\"Hi {myName}, I am {self.name}\")\n",
        "\n",
        "class Student(Person):\n",
        "    def __init__(self, name, age, loan):\n",
        "        self.name = name\n",
        "        self.age = age\n",
        "        self.loan = loan\n",
        "        Person.worldPopulation += 1\n",
        "\n",
        "    def whatsMyAgeIn5Years(self):\n",
        "        return self.age + 5\n",
        "\n",
        "    def introduction(self, myName):\n",
        "        super().introduction(myName)\n",
        "        print(f\"My debt is {self.loan}\")\n",
        "        print(f\"My age in 5 years is going to be {self.whatsMyAgeIn5Years()}\")\n",
        "\n"
      ]
    },
    {
      "cell_type": "code",
      "execution_count": null,
      "metadata": {
        "id": "0Py0bDQUUXam",
        "outputId": "eae1b0e2-962a-4d71-b460-180c0646897f"
      },
      "outputs": [
        {
          "ename": "",
          "evalue": "",
          "output_type": "error",
          "traceback": [
            "\u001b[1;31mThe Kernel crashed while executing code in the the current cell or a previous cell. Please review the code in the cell(s) to identify a possible cause of the failure. Click <a href='https://aka.ms/vscodeJupyterKernelCrash'>here</a> for more info. View Jupyter <a href='command:jupyter.viewOutput'>log</a> for further details."
          ]
        }
      ],
      "source": [
        "print(Person.worldPopulation)\n",
        "\n",
        "John = Person(\"John\", 38)\n",
        "\n",
        "print(Person.worldPopulation)\n",
        "\n",
        "print(John.age)\n",
        "print(John.species)\n",
        "\n",
        "John.species = 'dog'\n",
        "print(John.species)\n",
        "\n",
        "John.introduction(\"Jack\")\n",
        "\n",
        "JohnsKid = Person(\"Maria\", 3)\n",
        "\n",
        "print(Person.worldPopulation)\n",
        "\n",
        "Jonathan = Student(\"Jonathan\", 19, 500000)\n",
        "\n",
        "print(Person.worldPopulation)\n",
        "\n",
        "Jonathan.introduction(\"Vojta\")\n",
        "\n"
      ]
    },
    {
      "cell_type": "code",
      "execution_count": null,
      "metadata": {
        "id": "t74MTlwYUXan",
        "outputId": "932da68f-b420-4cf2-b3cd-6b6834b54fe3"
      },
      "outputs": [
        {
          "name": "stdout",
          "output_type": "stream",
          "text": [
            "4\n"
          ]
        }
      ],
      "source": [
        "squarefunc = lambda x: x**2\n",
        "\n",
        "print(squarefunc(2))"
      ]
    },
    {
      "cell_type": "code",
      "execution_count": null,
      "metadata": {
        "id": "gp7R6k0KUXan",
        "outputId": "e23f12df-ae7e-4bd7-e39c-9e9f9cd47688"
      },
      "outputs": [
        {
          "name": "stdout",
          "output_type": "stream",
          "text": [
            "[1, 4, 9, 16, 25]\n",
            "[2, 4]\n"
          ]
        }
      ],
      "source": [
        "numbers = [1, 2, 3, 4, 5]\n",
        "squared = list(map(lambda x: x**2, numbers))\n",
        "even_numbers = list(filter(lambda x: x % 2 == 0, numbers))\n",
        "print(squared)\n",
        "print(even_numbers)"
      ]
    },
    {
      "cell_type": "code",
      "execution_count": null,
      "metadata": {
        "id": "1H6onSXwUXao"
      },
      "outputs": [],
      "source": []
    },
    {
      "cell_type": "code",
      "execution_count": null,
      "metadata": {
        "id": "ls04OewJUXap",
        "outputId": "ac1234c1-9e81-4482-e274-97129d678ecc"
      },
      "outputs": [
        {
          "name": "stdout",
          "output_type": "stream",
          "text": [
            "HELLO\n",
            "HELLO\n"
          ]
        }
      ],
      "source": [
        "def shout(text):\n",
        "    return text.upper()\n",
        "\n",
        "print(shout('Hello'))\n",
        "\n",
        "yell = shout\n",
        "\n",
        "print(yell('Hello'))"
      ]
    },
    {
      "cell_type": "code",
      "execution_count": null,
      "metadata": {
        "id": "LWiTRAfjUXap",
        "outputId": "82023327-ad8b-40a3-f69f-8d69981b5ebe"
      },
      "outputs": [
        {
          "name": "stdout",
          "output_type": "stream",
          "text": [
            "HI, I AM CREATED BY A FUNCTION PASSED AS AN ARGUMENT.\n",
            "hi, i am created by a function passed as an argument.\n"
          ]
        }
      ],
      "source": [
        "# can be passed as arguments to other functions\n",
        "def shout(text):\n",
        "    return text.upper()\n",
        "\n",
        "def whisper(text):\n",
        "    return text.lower()\n",
        "\n",
        "def greet(func):\n",
        "    # storing the function in a variable\n",
        "    greeting = func(\"\"\"Hi, I am created by a function passed as an argument.\"\"\")\n",
        "    print (greeting)\n",
        "\n",
        "greet(shout)\n",
        "greet(whisper)"
      ]
    },
    {
      "cell_type": "code",
      "execution_count": null,
      "metadata": {
        "id": "2--23Z3dUXaq",
        "outputId": "0ff4881a-5aa3-4b81-89dc-3135252e2947"
      },
      "outputs": [
        {
          "name": "stdout",
          "output_type": "stream",
          "text": [
            "25\n",
            "16\n",
            "10\n"
          ]
        }
      ],
      "source": [
        "# Functions can return another function\n",
        "\n",
        "def create_adder(x):\n",
        "    def adder(y):\n",
        "        return x+y\n",
        "\n",
        "    return adder\n",
        "\n",
        "add_15 = create_adder(15)\n",
        "\n",
        "print(add_15(10))\n",
        "print(add_15(1))\n",
        "\n",
        "add_20 = create_adder(20)\n",
        "\n",
        "print(add_20(-10))"
      ]
    },
    {
      "cell_type": "code",
      "execution_count": null,
      "metadata": {
        "id": "o2rFWSk3UXar",
        "outputId": "3a2bc7a2-bed4-4fff-c429-166869e5ce38"
      },
      "outputs": [
        {
          "name": "stdout",
          "output_type": "stream",
          "text": [
            "Hi John\n",
            "<function greet.<locals>.<lambda> at 0x000002068F685480>\n"
          ]
        }
      ],
      "source": [
        "def greet():\n",
        "    # variable defined outside the inner function\n",
        "    name = \"John\"\n",
        "\n",
        "    # return a nested anonymous function\n",
        "    return lambda: \"Hi \" + name\n",
        "\n",
        "# call the outer function\n",
        "message = greet()\n",
        "\n",
        "# call the inner function\n",
        "print(message())\n",
        "print(greet())"
      ]
    },
    {
      "cell_type": "code",
      "execution_count": null,
      "metadata": {
        "id": "FENK8OsRUXar",
        "outputId": "2a681013-9dea-48ea-c539-3da3f66220d6"
      },
      "outputs": [
        {
          "name": "stdout",
          "output_type": "stream",
          "text": [
            "3\n",
            "5\n",
            "7\n",
            "3\n"
          ]
        }
      ],
      "source": [
        "def calculate():\n",
        "    num = 1\n",
        "    def inner_func():\n",
        "        nonlocal num\n",
        "        num += 2\n",
        "        return num\n",
        "    return inner_func\n",
        "\n",
        "# call the outer function\n",
        "odd = calculate()\n",
        "\n",
        "# call the inner function\n",
        "print(odd())\n",
        "print(odd())\n",
        "print(odd())\n",
        "\n",
        "# call the outer function again\n",
        "odd2 = calculate()\n",
        "print(odd2())"
      ]
    },
    {
      "cell_type": "code",
      "execution_count": null,
      "metadata": {
        "id": "VW9UmpbRUXar",
        "outputId": "82c03e99-7b4c-4747-c8bd-3b64b1c0bcd6"
      },
      "outputs": [
        {
          "name": "stdout",
          "output_type": "stream",
          "text": [
            "6\n",
            "4\n"
          ]
        }
      ],
      "source": [
        "def closure_function(x):\n",
        "    def multiply(y):\n",
        "        return x * y\n",
        "    return multiply\n",
        "\n",
        "double = closure_function(2)  # 'double' is now a closure\n",
        "\n",
        "print(double(3))  # Output: 6\n",
        "print(double(2))"
      ]
    },
    {
      "cell_type": "code",
      "execution_count": null,
      "metadata": {
        "id": "ZK7tgQKfUXas",
        "outputId": "0701e6b0-9936-4a50-f29d-b696408a3658"
      },
      "outputs": [
        {
          "name": "stdout",
          "output_type": "stream",
          "text": [
            "Hello, this is before function execution\n",
            "This is inside the function !!\n",
            "This is after function execution\n"
          ]
        }
      ],
      "source": [
        "# defining a decorator\n",
        "def hello_decorator(func):\n",
        "    def wrapper():\n",
        "        print(\"Hello, this is before function execution\")\n",
        "\n",
        "        func()\n",
        "\n",
        "        print(\"This is after function execution\")\n",
        "\n",
        "    return wrapper\n",
        "\n",
        "\n",
        "# defining a function, to be called inside wrapper\n",
        "def function_to_be_used():\n",
        "    print(\"This is inside the function !!\")\n",
        "\n",
        "\n",
        "function_to_be_used = hello_decorator(function_to_be_used)\n",
        "\n",
        "\n",
        "function_to_be_used()"
      ]
    },
    {
      "cell_type": "code",
      "execution_count": null,
      "metadata": {
        "id": "v6So1U6ZUXas",
        "outputId": "d3e3b020-42ee-4d1b-a356-0e86565bd8a9"
      },
      "outputs": [
        {
          "name": "stdout",
          "output_type": "stream",
          "text": [
            "some_function took 2.0122594833374023 seconds to execute.\n",
            "another_func took 0.0016176700592041016 seconds to execute.\n"
          ]
        }
      ],
      "source": [
        "import time\n",
        "\n",
        "# Decorator function\n",
        "def timing_decorator(func):\n",
        "    def wrapper(*args, **kwargs):\n",
        "        start_time = time.time()\n",
        "\n",
        "        result = func(*args, **kwargs)\n",
        "\n",
        "        end_time = time.time()\n",
        "        execution_time = end_time - start_time\n",
        "        print(f\"{func.__name__} took {execution_time} seconds to execute.\")\n",
        "        return result\n",
        "    return wrapper\n",
        "\n",
        "# Apply the decorator to a function\n",
        "@timing_decorator\n",
        "def some_function():\n",
        "    # Simulate some time-consuming operation\n",
        "    time.sleep(2)\n",
        "\n",
        "@timing_decorator\n",
        "def another_func():\n",
        "    sum = 0\n",
        "    for i in range(10000):\n",
        "        sum+=i\n",
        "\n",
        "# Call the decorated function\n",
        "some_function()\n",
        "another_func()"
      ]
    },
    {
      "cell_type": "code",
      "execution_count": null,
      "metadata": {
        "id": "2Vl7OzWdUXas",
        "outputId": "1a583d87-c1df-4023-95f4-89e87d5a8bb9"
      },
      "outputs": [
        {
          "name": "stdout",
          "output_type": "stream",
          "text": [
            "Hello, this is before function execution\n",
            "Hi\n",
            "This is after function execution\n",
            "Hello, this is before function execution\n",
            "15\n",
            "This is after function execution\n"
          ]
        }
      ],
      "source": [
        "def hello_decorator(func):\n",
        "    def wrapper(*args):\n",
        "        print(\"Hello, this is before function execution\")\n",
        "        print(func(*args))\n",
        "        print(\"This is after function execution\")\n",
        "\n",
        "    return wrapper\n",
        "\n",
        "@hello_decorator\n",
        "def greet():\n",
        "    return \"Hi\"\n",
        "\n",
        "@hello_decorator\n",
        "def add(x,y):\n",
        "    return x + y\n",
        "\n",
        "\n",
        "greet()\n",
        "add(10, 5)"
      ]
    },
    {
      "cell_type": "code",
      "execution_count": null,
      "metadata": {
        "id": "-ZQ4VLbfUXat"
      },
      "outputs": [],
      "source": [
        "def hello_decorator(func):\n",
        "    def wrapper(*args, **kwargs):\n",
        "\n",
        "        print(\"before Execution\")\n",
        "\n",
        "        # getting the returned value\n",
        "        returned_value = func(*args, **kwargs)\n",
        "        print(\"after Execution\")\n",
        "\n",
        "        # returning the value to the original frame\n",
        "        return returned_value\n",
        "\n",
        "    return wrapper\n",
        "\n",
        "\n",
        "# adding decorator to the function\n",
        "@hello_decorator\n",
        "def sum_two_numbers(a, b):\n",
        "    print(\"Inside the function\")\n",
        "    return a + b\n",
        "\n",
        "a, b = 1, 2\n",
        "\n",
        "# getting the value through return of the function\n",
        "print(\"Sum =\", sum_two_numbers(a, b))"
      ]
    },
    {
      "cell_type": "code",
      "execution_count": null,
      "metadata": {
        "id": "aWkOWA3pUXau",
        "outputId": "3b0892ac-996f-486d-8f86-6bfd36f1e786"
      },
      "outputs": [
        {
          "name": "stdout",
          "output_type": "stream",
          "text": [
            "1\n",
            "2\n",
            "3\n"
          ]
        }
      ],
      "source": [
        "\n",
        "# A generator function that yields 1 for first time,\n",
        "# 2 second time and 3 third time\n",
        "def simpleGeneratorFun():\n",
        "    yield 1\n",
        "    yield 2\n",
        "    yield 3\n",
        "\n",
        "# Driver code to check above generator function\n",
        "for value in simpleGeneratorFun():\n",
        "    print(value)"
      ]
    },
    {
      "cell_type": "code",
      "execution_count": null,
      "metadata": {
        "id": "UpXj96AEUXau",
        "outputId": "bf6146eb-c2ac-41a2-bf4b-b5036c26536f"
      },
      "outputs": [
        {
          "name": "stdout",
          "output_type": "stream",
          "text": [
            "1\n",
            "2\n",
            "3\n"
          ]
        }
      ],
      "source": [
        "\n",
        "# A Python program to demonstrate use of\n",
        "# generator object with next()\n",
        "\n",
        "# A generator function\n",
        "def simpleGeneratorFun():\n",
        "    yield 1\n",
        "    yield 2\n",
        "    yield 3\n",
        "\n",
        "# x is a generator object\n",
        "x = simpleGeneratorFun()\n",
        "\n",
        "# Iterating over the generator object using next\n",
        "\n",
        "# In Python 3, __next__()\n",
        "print(next(x))\n",
        "print(next(x))\n",
        "print(next(x))"
      ]
    },
    {
      "cell_type": "code",
      "execution_count": null,
      "metadata": {
        "id": "Luw8dhRAUXau",
        "outputId": "1e70287c-7b43-459d-9791-71f689dc3ab3"
      },
      "outputs": [
        {
          "name": "stdout",
          "output_type": "stream",
          "text": [
            "0\n",
            "10\n",
            "20\n"
          ]
        }
      ],
      "source": [
        "\n",
        "# generator expression\n",
        "generator_exp = (i * 5 for i in range(5) if i%2==0)\n",
        "\n",
        "for i in generator_exp:\n",
        "    print(i)"
      ]
    },
    {
      "cell_type": "code",
      "execution_count": null,
      "metadata": {
        "id": "slepu5ETUXav"
      },
      "outputs": [],
      "source": []
    }
  ],
  "metadata": {
    "kernelspec": {
      "display_name": "Python 3",
      "language": "python",
      "name": "python3"
    },
    "language_info": {
      "codemirror_mode": {
        "name": "ipython",
        "version": 3
      },
      "file_extension": ".py",
      "mimetype": "text/x-python",
      "name": "python",
      "nbconvert_exporter": "python",
      "pygments_lexer": "ipython3",
      "version": "3.10.11"
    },
    "colab": {
      "provenance": [],
      "include_colab_link": true
    }
  },
  "nbformat": 4,
  "nbformat_minor": 0
}