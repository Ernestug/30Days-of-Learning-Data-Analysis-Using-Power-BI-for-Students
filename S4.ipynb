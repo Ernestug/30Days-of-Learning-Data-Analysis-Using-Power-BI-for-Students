{
  "cells": [
    {
      "cell_type": "markdown",
      "metadata": {
        "id": "view-in-github",
        "colab_type": "text"
      },
      "source": [
        "<a href=\"https://colab.research.google.com/github/Ernestug/30Days-of-Learning-Data-Analysis-Using-Power-BI-for-Students/blob/main/S4.ipynb\" target=\"_parent\"><img src=\"https://colab.research.google.com/assets/colab-badge.svg\" alt=\"Open In Colab\"/></a>"
      ]
    },
    {
      "cell_type": "code",
      "execution_count": null,
      "metadata": {
        "id": "VmPVeLNbVzBh"
      },
      "outputs": [],
      "source": [
        "somestring = \"He\""
      ]
    },
    {
      "cell_type": "code",
      "execution_count": null,
      "metadata": {
        "id": "4pkfBYrXVzBk"
      },
      "outputs": [],
      "source": [
        "print(somestring[-1])\n",
        "print(somestring[1])"
      ]
    },
    {
      "cell_type": "code",
      "execution_count": null,
      "metadata": {
        "id": "e3fKSs37VzBl",
        "outputId": "4d550628-9591-4023-fcc0-89e362857fdd"
      },
      "outputs": [
        {
          "name": "stdout",
          "output_type": "stream",
          "text": [
            "<class 'str'>\n"
          ]
        }
      ],
      "source": [
        "print(type(somestring))"
      ]
    },
    {
      "cell_type": "code",
      "execution_count": null,
      "metadata": {
        "id": "bFBAcuxLVzBp"
      },
      "outputs": [],
      "source": [
        "somefloat = 145.0323323132131231312313414134134134\n",
        "\n",
        "print(somefloat)"
      ]
    },
    {
      "cell_type": "code",
      "execution_count": null,
      "metadata": {
        "id": "Z1mOhfjmVzBq"
      },
      "outputs": [],
      "source": [
        "someint =  145\n",
        "print(type(someint))"
      ]
    },
    {
      "cell_type": "code",
      "execution_count": null,
      "metadata": {
        "id": "A7jHGnPeVzBr"
      },
      "outputs": [],
      "source": [
        "sometuple = (1,2,3,4,\"hi\")\n",
        "\n",
        "print(sometuple[0])\n",
        "\n",
        "sometuple[0] = 'one' # error -- immutable\n"
      ]
    },
    {
      "cell_type": "code",
      "execution_count": null,
      "metadata": {
        "id": "tVlw6MldVzBs"
      },
      "outputs": [],
      "source": [
        "somelist = [1,2,3,\"hi\"]\n",
        "\n",
        "print(somelist[0])\n",
        "\n",
        "somelist[0] = 'one'\n",
        "\n",
        "print(somelist[0])\n",
        "\n",
        "\n",
        "# I want to add 'extra'\n",
        "somelist.append('extra')\n",
        "\n",
        "print(somelist)\n",
        "\n",
        "# insert in the middle\n",
        "somelist.insert(2, 'middle')\n",
        "\n",
        "print(somelist)\n",
        "\n",
        "# remove an element\n",
        "somelist.remove('one')\n",
        "\n",
        "print(somelist)\n",
        "\n",
        "\n",
        "# multiple elements by index\n",
        "del somelist[0:2]\n",
        "\n",
        "print(somelist)\n",
        "\n",
        "# find index of an element\n",
        "somelist.index('hi')"
      ]
    },
    {
      "cell_type": "code",
      "execution_count": null,
      "metadata": {
        "id": "OyojNYMOVzBt"
      },
      "outputs": [],
      "source": [
        "somedict = {2:'two', 1:'one', 3:'three'}\n",
        "\n",
        "somedict[1]\n",
        "\n",
        "somedict[4] = 'four'\n",
        "\n",
        "print(somedict)"
      ]
    },
    {
      "cell_type": "code",
      "execution_count": null,
      "metadata": {
        "id": "6ZamerTqVzBt"
      },
      "outputs": [],
      "source": [
        "# set\n",
        "\n",
        "someset = {1,2,2,2,2,2,2,2,4,3,'hi', 'a', 'a'}\n",
        "\n",
        "someset.add(110)\n",
        "\n",
        "print(someset)"
      ]
    },
    {
      "cell_type": "markdown",
      "metadata": {
        "id": "OVwF1YwyVzBv"
      },
      "source": [
        "Operations"
      ]
    },
    {
      "cell_type": "code",
      "execution_count": null,
      "metadata": {
        "id": "M4iVY1ZqVzBw"
      },
      "outputs": [],
      "source": [
        "string1 = \"ABC\"\n",
        "string2 = \"def\"\n",
        "\n",
        "string3 = string2 + string1\n",
        "string3 = string3.capitalize()\n",
        "\n",
        "print(string3)"
      ]
    },
    {
      "cell_type": "code",
      "execution_count": null,
      "metadata": {
        "id": "DsUmrKBrVzBy"
      },
      "outputs": [],
      "source": [
        "x = 1\n",
        "y = 2\n",
        "z = x + y\n",
        "print(z)"
      ]
    },
    {
      "cell_type": "code",
      "execution_count": null,
      "metadata": {
        "id": "xGabrH_5VzBz"
      },
      "outputs": [],
      "source": [
        "x = [1,2,3]\n",
        "y = [4,5,6]\n",
        "\n",
        "z = x + y\n",
        "# print(z)\n",
        "\n",
        "# nested list\n",
        "x.append(y)\n",
        "print(x[3][0])"
      ]
    },
    {
      "cell_type": "code",
      "execution_count": null,
      "metadata": {
        "id": "q-twkSzHVzB0"
      },
      "outputs": [],
      "source": [
        "# + - * /\n",
        "\n",
        "# Exponent\n",
        "\n",
        "print(2**3)\n",
        "\n",
        "# Floor division or integer division\n",
        "num1 = 11\n",
        "num2 = 4\n",
        "\n",
        "print(num1/num2)\n",
        "\n",
        "print(num1//num2)\n",
        "\n",
        "# Modulo = remainder\n",
        "\n",
        "print(num1%num2)"
      ]
    },
    {
      "cell_type": "code",
      "execution_count": null,
      "metadata": {
        "id": "RveSPIa4VzB0"
      },
      "outputs": [],
      "source": [
        "print('hi', 5)\n",
        "print(5*4)\n",
        "print('hi'*5)\n",
        "\n",
        "x = 4\n",
        "\n",
        "print('number ' + str(4))\n",
        "print(f'number {x}')\n",
        "print('number {}'.format(x))"
      ]
    },
    {
      "cell_type": "markdown",
      "metadata": {
        "id": "voMxTvGPVzB1"
      },
      "source": [
        "Logic"
      ]
    },
    {
      "cell_type": "code",
      "execution_count": null,
      "metadata": {
        "id": "WoIC96jgVzB3"
      },
      "outputs": [],
      "source": [
        "right = True\n",
        "wrong = False\n",
        "\n",
        "print(int(True))\n",
        "print(int(False))\n",
        "\n",
        "right\n",
        "\n",
        "print(True * 5)"
      ]
    },
    {
      "cell_type": "code",
      "execution_count": null,
      "metadata": {
        "id": "70XT33c5VzB4"
      },
      "outputs": [],
      "source": [
        "print(True and True)\n",
        "print(False and True)\n",
        "print(False and False)\n",
        "\n",
        "print(\"\\nor\")\n",
        "print(True or True)\n",
        "print(True or False)\n",
        "print(False or False)\n",
        "\n",
        "print(\"\\nnegator\")\n",
        "print(not True)"
      ]
    },
    {
      "cell_type": "code",
      "execution_count": null,
      "metadata": {
        "id": "3G7dmBUmVzB4"
      },
      "outputs": [],
      "source": [
        "x = 5\n",
        "\n",
        "print(x==3)\n",
        "\n",
        "if x == 3:\n",
        "    print(\"Yes\")"
      ]
    },
    {
      "cell_type": "code",
      "execution_count": null,
      "metadata": {
        "id": "RGD0gwpNVzB5"
      },
      "outputs": [],
      "source": [
        "condition = True\n",
        "\n",
        "if condition:\n",
        "    print(\"yess\")"
      ]
    },
    {
      "cell_type": "code",
      "execution_count": null,
      "metadata": {
        "id": "m5DQ4jdUVzB5"
      },
      "outputs": [],
      "source": [
        "x = 11\n",
        "\n",
        "if x > 1:\n",
        "    print(\"yes\")\n",
        "\n",
        "if x < 10:\n",
        "    print(\"yes again\")\n",
        "\n",
        "if x == 10:\n",
        "    print(\"mhm\")\n",
        "\n",
        "\n",
        "if x <= 10:\n",
        "    print(\"yesyes\")\n",
        "\n",
        "if x < 10 or x == 10:\n",
        "    print(\"yesyeesd\")\n",
        "\n",
        "\n",
        "if x >= 15:\n",
        "    print(\"again\")\n",
        "\n",
        "if x != 10:\n",
        "    print(\"ya\")"
      ]
    },
    {
      "cell_type": "code",
      "execution_count": null,
      "metadata": {
        "id": "eDGlXlI_VzB6"
      },
      "outputs": [],
      "source": [
        "# check that a number is even\n",
        "number = 10\n",
        "if (number % 2) == 0:\n",
        "    print(f\"Number {number} is even\")\n",
        "\n",
        "else:\n",
        "    print(str(number) + \" is odd\")"
      ]
    },
    {
      "cell_type": "code",
      "execution_count": null,
      "metadata": {
        "id": "OzOB6NiXVzB6"
      },
      "outputs": [],
      "source": [
        "# remainder after division by 3\n",
        "number = 10\n",
        "\n",
        "if (number % 3) == 0:\n",
        "    print(\"the remainder is 0\")\n",
        "elif (number % 3) == 1:\n",
        "    print(\"the remainder is 1\")\n",
        "else:\n",
        "    print(\"the remainder is 2\")\n"
      ]
    },
    {
      "cell_type": "code",
      "execution_count": null,
      "metadata": {
        "id": "3fnu7UcDVzB6"
      },
      "outputs": [],
      "source": [
        "# implementing logic operators\n",
        "x = 4\n",
        "y = 5\n",
        "\n",
        "if (x % 2) == 0 and (y % 2) == 0:\n",
        "    print('both')\n",
        "\n",
        "if (x % 2) == 0 or (y % 2) == 0:\n",
        "    print('at least one')"
      ]
    },
    {
      "cell_type": "code",
      "execution_count": null,
      "metadata": {
        "id": "ivqt8FzwVzB6"
      },
      "outputs": [],
      "source": [
        "print(\"yes\")"
      ]
    },
    {
      "cell_type": "code",
      "execution_count": null,
      "metadata": {
        "id": "_NAjioS2VzB7"
      },
      "outputs": [],
      "source": [
        "x = int(input(\"What is your favourite number? \"))\n",
        "\n",
        "print(x/10)"
      ]
    }
  ],
  "metadata": {
    "kernelspec": {
      "display_name": "Python 3",
      "language": "python",
      "name": "python3"
    },
    "language_info": {
      "codemirror_mode": {
        "name": "ipython",
        "version": 3
      },
      "file_extension": ".py",
      "mimetype": "text/x-python",
      "name": "python",
      "nbconvert_exporter": "python",
      "pygments_lexer": "ipython3",
      "version": "3.10.11"
    },
    "orig_nbformat": 4,
    "colab": {
      "provenance": [],
      "include_colab_link": true
    }
  },
  "nbformat": 4,
  "nbformat_minor": 0
}